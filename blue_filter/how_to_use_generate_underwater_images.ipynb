{
 "cells": [
  {
   "cell_type": "code",
   "execution_count": 5,
   "metadata": {
    "scrolled": true
   },
   "outputs": [],
   "source": [
    "import sys\n",
    "# add the directory blue_filter to the lib paths search\n",
    "sys.path.insert(1, '../color_underwater_videos/blue_filter')\n",
    "from generate_underwater_images import generate_video_underwater\n",
    "\n",
    "images_path='../videos/depth_estimation/tiger/frames/color'\n",
    "output_path='output'\n",
    "depth_path='../videos/depth_estimation/tiger/frames/depth'\n",
    "\n",
    "generate_video_underwater(images_path, depth_path, output_path, randoms=3)\n",
    "\n"
   ]
  }
 ],
 "metadata": {
  "kernelspec": {
   "display_name": "Python [conda env:DL4CV]",
   "language": "python",
   "name": "conda-env-DL4CV-py"
  },
  "language_info": {
   "codemirror_mode": {
    "name": "ipython",
    "version": 3
   },
   "file_extension": ".py",
   "mimetype": "text/x-python",
   "name": "python",
   "nbconvert_exporter": "python",
   "pygments_lexer": "ipython3",
   "version": "3.9.5"
  }
 },
 "nbformat": 4,
 "nbformat_minor": 4
}

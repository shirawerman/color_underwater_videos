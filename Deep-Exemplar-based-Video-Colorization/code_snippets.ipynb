{
 "cells": [
  {
   "cell_type": "code",
   "execution_count": 1,
   "id": "657c141f",
   "metadata": {},
   "outputs": [
    {
     "data": {
      "text/plain": [
       "'/home/labs/testing/class20/exemplar/Deep-Exemplar-based-Video-Colorization'"
      ]
     },
     "execution_count": 1,
     "metadata": {},
     "output_type": "execute_result"
    }
   ],
   "source": [
    "pwd"
   ]
  },
  {
   "cell_type": "code",
   "execution_count": 3,
   "id": "d5b8c70a",
   "metadata": {},
   "outputs": [],
   "source": [
    "import torch"
   ]
  },
  {
   "cell_type": "code",
   "execution_count": 5,
   "id": "03253819",
   "metadata": {},
   "outputs": [
    {
     "data": {
      "text/plain": [
       "True"
      ]
     },
     "execution_count": 5,
     "metadata": {},
     "output_type": "execute_result"
    }
   ],
   "source": [
    "torch.cuda.is_available()"
   ]
  },
  {
   "cell_type": "code",
   "execution_count": 8,
   "id": "3d9fcaa5",
   "metadata": {},
   "outputs": [
    {
     "name": "stdout",
     "output_type": "stream",
     "text": [
      "------------ Options -------------\n",
      "batch_size: 16\n",
      "beta1: 0.5\n",
      "checkpoint_dir: checkpoints/default\n",
      "contextual_loss_direction: forward\n",
      "data_root: ../train_data/data_root\n",
      "data_root_imagenet: ../train_data/data_root/lioness/reference\n",
      "domain_invariant: False\n",
      "epoch: 40\n",
      "gpu_ids: 0\n",
      "ic: 7\n",
      "image_size: [216, 384]\n",
      "load_pretrained_model: True\n",
      "lr: 1e-05\n",
      "lr_gamma: 0.1\n",
      "lr_step: 100\n",
      "luminance_noise: 2.0\n",
      "nonzero_placeholder_probability: 0.0\n",
      "permute_data: True\n",
      "print_step: 2\n",
      "real_reference_probability: 0.7\n",
      "resume: False\n",
      "resume_epoch: 0\n",
      "tb_log_step: 50\n",
      "weight_consistent: 0.02\n",
      "weight_contextual: 0.2\n",
      "weight_gan: 0.2\n",
      "weight_nonlocal_consistent: 0.0\n",
      "weight_nonlocal_smoothness: 0.0\n",
      "weight_perceptual: 0.001\n",
      "weight_smoothness: 5.0\n",
      "weigth_l1: 2.0\n",
      "with_bad: True\n",
      "with_mid: True\n",
      "workers: 8\n",
      "-------------- End ----------------\n",
      "running on GPU [0]\n",
      "initializing dataloader\n",
      "##### parsing image pairs in ../train_data/data_root: 25 pairs #####\n",
      "Dana Hamalca\n",
      "replace all deconv with [nearest + conv]\n",
      "replace all batchnorm with instancenorm\n",
      "defining loss\n",
      "defining optimizer\n",
      "train_dataset info,  real_len: 25, epoch_len: 1000, iter_num_per_epoch: 1\n",
      "moving models to device\n",
      "initializing losses\n",
      "start training\n"
     ]
    },
    {
     "ename": "AttributeError",
     "evalue": "module '__main__' has no attribute '__spec__'",
     "output_type": "error",
     "traceback": [
      "\u001b[0;31m---------------------------------------------------------------------------\u001b[0m",
      "\u001b[0;31mAttributeError\u001b[0m                            Traceback (most recent call last)",
      "\u001b[0;32m~/exemplar/Deep-Exemplar-based-Video-Colorization/train.py\u001b[0m in \u001b[0;36m<module>\u001b[0;34m\u001b[0m\n\u001b[1;32m    533\u001b[0m     \u001b[0;31m# %% Training\u001b[0m\u001b[0;34m\u001b[0m\u001b[0;34m\u001b[0m\u001b[0;34m\u001b[0m\u001b[0m\n\u001b[1;32m    534\u001b[0m     \u001b[0mprint\u001b[0m\u001b[0;34m(\u001b[0m\u001b[0;34m\"start training\"\u001b[0m\u001b[0;34m)\u001b[0m\u001b[0;34m\u001b[0m\u001b[0;34m\u001b[0m\u001b[0m\n\u001b[0;32m--> 535\u001b[0;31m     \u001b[0;32mfor\u001b[0m \u001b[0miter\u001b[0m\u001b[0;34m,\u001b[0m \u001b[0mdata\u001b[0m \u001b[0;32min\u001b[0m \u001b[0menumerate\u001b[0m\u001b[0;34m(\u001b[0m\u001b[0mdata_loader\u001b[0m\u001b[0;34m)\u001b[0m\u001b[0;34m:\u001b[0m\u001b[0;34m\u001b[0m\u001b[0;34m\u001b[0m\u001b[0m\n\u001b[0m\u001b[1;32m    536\u001b[0m         \u001b[0mstart_time\u001b[0m \u001b[0;34m=\u001b[0m \u001b[0mtime\u001b[0m\u001b[0;34m.\u001b[0m\u001b[0mtime\u001b[0m\u001b[0;34m(\u001b[0m\u001b[0;34m)\u001b[0m\u001b[0;34m\u001b[0m\u001b[0;34m\u001b[0m\u001b[0m\n\u001b[1;32m    537\u001b[0m         \u001b[0mtotal_iter\u001b[0m \u001b[0;34m+=\u001b[0m \u001b[0;36m1\u001b[0m\u001b[0;34m\u001b[0m\u001b[0;34m\u001b[0m\u001b[0m\n",
      "\u001b[0;32m~/.conda/envs/ColorVid/lib/python3.6/site-packages/torch/utils/data/dataloader.py\u001b[0m in \u001b[0;36m__iter__\u001b[0;34m(self)\u001b[0m\n\u001b[1;32m    357\u001b[0m             \u001b[0;32mreturn\u001b[0m \u001b[0mself\u001b[0m\u001b[0;34m.\u001b[0m\u001b[0m_iterator\u001b[0m\u001b[0;34m\u001b[0m\u001b[0;34m\u001b[0m\u001b[0m\n\u001b[1;32m    358\u001b[0m         \u001b[0;32melse\u001b[0m\u001b[0;34m:\u001b[0m\u001b[0;34m\u001b[0m\u001b[0;34m\u001b[0m\u001b[0m\n\u001b[0;32m--> 359\u001b[0;31m             \u001b[0;32mreturn\u001b[0m \u001b[0mself\u001b[0m\u001b[0;34m.\u001b[0m\u001b[0m_get_iterator\u001b[0m\u001b[0;34m(\u001b[0m\u001b[0;34m)\u001b[0m\u001b[0;34m\u001b[0m\u001b[0;34m\u001b[0m\u001b[0m\n\u001b[0m\u001b[1;32m    360\u001b[0m \u001b[0;34m\u001b[0m\u001b[0m\n\u001b[1;32m    361\u001b[0m     \u001b[0;34m@\u001b[0m\u001b[0mproperty\u001b[0m\u001b[0;34m\u001b[0m\u001b[0;34m\u001b[0m\u001b[0m\n",
      "\u001b[0;32m~/.conda/envs/ColorVid/lib/python3.6/site-packages/torch/utils/data/dataloader.py\u001b[0m in \u001b[0;36m_get_iterator\u001b[0;34m(self)\u001b[0m\n\u001b[1;32m    303\u001b[0m         \u001b[0;32melse\u001b[0m\u001b[0;34m:\u001b[0m\u001b[0;34m\u001b[0m\u001b[0;34m\u001b[0m\u001b[0m\n\u001b[1;32m    304\u001b[0m             \u001b[0mself\u001b[0m\u001b[0;34m.\u001b[0m\u001b[0mcheck_worker_number_rationality\u001b[0m\u001b[0;34m(\u001b[0m\u001b[0;34m)\u001b[0m\u001b[0;34m\u001b[0m\u001b[0;34m\u001b[0m\u001b[0m\n\u001b[0;32m--> 305\u001b[0;31m             \u001b[0;32mreturn\u001b[0m \u001b[0m_MultiProcessingDataLoaderIter\u001b[0m\u001b[0;34m(\u001b[0m\u001b[0mself\u001b[0m\u001b[0;34m)\u001b[0m\u001b[0;34m\u001b[0m\u001b[0;34m\u001b[0m\u001b[0m\n\u001b[0m\u001b[1;32m    306\u001b[0m \u001b[0;34m\u001b[0m\u001b[0m\n\u001b[1;32m    307\u001b[0m     \u001b[0;34m@\u001b[0m\u001b[0mproperty\u001b[0m\u001b[0;34m\u001b[0m\u001b[0;34m\u001b[0m\u001b[0m\n",
      "\u001b[0;32m~/.conda/envs/ColorVid/lib/python3.6/site-packages/torch/utils/data/dataloader.py\u001b[0m in \u001b[0;36m__init__\u001b[0;34m(self, loader)\u001b[0m\n\u001b[1;32m    916\u001b[0m             \u001b[0;31m#     before it starts, and __del__ tries to join but will get:\u001b[0m\u001b[0;34m\u001b[0m\u001b[0;34m\u001b[0m\u001b[0;34m\u001b[0m\u001b[0m\n\u001b[1;32m    917\u001b[0m             \u001b[0;31m#     AssertionError: can only join a started process.\u001b[0m\u001b[0;34m\u001b[0m\u001b[0;34m\u001b[0m\u001b[0;34m\u001b[0m\u001b[0m\n\u001b[0;32m--> 918\u001b[0;31m             \u001b[0mw\u001b[0m\u001b[0;34m.\u001b[0m\u001b[0mstart\u001b[0m\u001b[0;34m(\u001b[0m\u001b[0;34m)\u001b[0m\u001b[0;34m\u001b[0m\u001b[0;34m\u001b[0m\u001b[0m\n\u001b[0m\u001b[1;32m    919\u001b[0m             \u001b[0mself\u001b[0m\u001b[0;34m.\u001b[0m\u001b[0m_index_queues\u001b[0m\u001b[0;34m.\u001b[0m\u001b[0mappend\u001b[0m\u001b[0;34m(\u001b[0m\u001b[0mindex_queue\u001b[0m\u001b[0;34m)\u001b[0m\u001b[0;34m\u001b[0m\u001b[0;34m\u001b[0m\u001b[0m\n\u001b[1;32m    920\u001b[0m             \u001b[0mself\u001b[0m\u001b[0;34m.\u001b[0m\u001b[0m_workers\u001b[0m\u001b[0;34m.\u001b[0m\u001b[0mappend\u001b[0m\u001b[0;34m(\u001b[0m\u001b[0mw\u001b[0m\u001b[0;34m)\u001b[0m\u001b[0;34m\u001b[0m\u001b[0;34m\u001b[0m\u001b[0m\n",
      "\u001b[0;32m~/.conda/envs/ColorVid/lib/python3.6/multiprocessing/process.py\u001b[0m in \u001b[0;36mstart\u001b[0;34m(self)\u001b[0m\n\u001b[1;32m    103\u001b[0m                \u001b[0;34m'daemonic processes are not allowed to have children'\u001b[0m\u001b[0;34m\u001b[0m\u001b[0;34m\u001b[0m\u001b[0m\n\u001b[1;32m    104\u001b[0m         \u001b[0m_cleanup\u001b[0m\u001b[0;34m(\u001b[0m\u001b[0;34m)\u001b[0m\u001b[0;34m\u001b[0m\u001b[0;34m\u001b[0m\u001b[0m\n\u001b[0;32m--> 105\u001b[0;31m         \u001b[0mself\u001b[0m\u001b[0;34m.\u001b[0m\u001b[0m_popen\u001b[0m \u001b[0;34m=\u001b[0m \u001b[0mself\u001b[0m\u001b[0;34m.\u001b[0m\u001b[0m_Popen\u001b[0m\u001b[0;34m(\u001b[0m\u001b[0mself\u001b[0m\u001b[0;34m)\u001b[0m\u001b[0;34m\u001b[0m\u001b[0;34m\u001b[0m\u001b[0m\n\u001b[0m\u001b[1;32m    106\u001b[0m         \u001b[0mself\u001b[0m\u001b[0;34m.\u001b[0m\u001b[0m_sentinel\u001b[0m \u001b[0;34m=\u001b[0m \u001b[0mself\u001b[0m\u001b[0;34m.\u001b[0m\u001b[0m_popen\u001b[0m\u001b[0;34m.\u001b[0m\u001b[0msentinel\u001b[0m\u001b[0;34m\u001b[0m\u001b[0;34m\u001b[0m\u001b[0m\n\u001b[1;32m    107\u001b[0m         \u001b[0;31m# Avoid a refcycle if the target function holds an indirect\u001b[0m\u001b[0;34m\u001b[0m\u001b[0;34m\u001b[0m\u001b[0;34m\u001b[0m\u001b[0m\n",
      "\u001b[0;32m~/.conda/envs/ColorVid/lib/python3.6/multiprocessing/context.py\u001b[0m in \u001b[0;36m_Popen\u001b[0;34m(process_obj)\u001b[0m\n\u001b[1;32m    221\u001b[0m     \u001b[0;34m@\u001b[0m\u001b[0mstaticmethod\u001b[0m\u001b[0;34m\u001b[0m\u001b[0;34m\u001b[0m\u001b[0m\n\u001b[1;32m    222\u001b[0m     \u001b[0;32mdef\u001b[0m \u001b[0m_Popen\u001b[0m\u001b[0;34m(\u001b[0m\u001b[0mprocess_obj\u001b[0m\u001b[0;34m)\u001b[0m\u001b[0;34m:\u001b[0m\u001b[0;34m\u001b[0m\u001b[0;34m\u001b[0m\u001b[0m\n\u001b[0;32m--> 223\u001b[0;31m         \u001b[0;32mreturn\u001b[0m \u001b[0m_default_context\u001b[0m\u001b[0;34m.\u001b[0m\u001b[0mget_context\u001b[0m\u001b[0;34m(\u001b[0m\u001b[0;34m)\u001b[0m\u001b[0;34m.\u001b[0m\u001b[0mProcess\u001b[0m\u001b[0;34m.\u001b[0m\u001b[0m_Popen\u001b[0m\u001b[0;34m(\u001b[0m\u001b[0mprocess_obj\u001b[0m\u001b[0;34m)\u001b[0m\u001b[0;34m\u001b[0m\u001b[0;34m\u001b[0m\u001b[0m\n\u001b[0m\u001b[1;32m    224\u001b[0m \u001b[0;34m\u001b[0m\u001b[0m\n\u001b[1;32m    225\u001b[0m \u001b[0;32mclass\u001b[0m \u001b[0mDefaultContext\u001b[0m\u001b[0;34m(\u001b[0m\u001b[0mBaseContext\u001b[0m\u001b[0;34m)\u001b[0m\u001b[0;34m:\u001b[0m\u001b[0;34m\u001b[0m\u001b[0;34m\u001b[0m\u001b[0m\n",
      "\u001b[0;32m~/.conda/envs/ColorVid/lib/python3.6/multiprocessing/context.py\u001b[0m in \u001b[0;36m_Popen\u001b[0;34m(process_obj)\u001b[0m\n\u001b[1;32m    282\u001b[0m         \u001b[0;32mdef\u001b[0m \u001b[0m_Popen\u001b[0m\u001b[0;34m(\u001b[0m\u001b[0mprocess_obj\u001b[0m\u001b[0;34m)\u001b[0m\u001b[0;34m:\u001b[0m\u001b[0;34m\u001b[0m\u001b[0;34m\u001b[0m\u001b[0m\n\u001b[1;32m    283\u001b[0m             \u001b[0;32mfrom\u001b[0m \u001b[0;34m.\u001b[0m\u001b[0mpopen_spawn_posix\u001b[0m \u001b[0;32mimport\u001b[0m \u001b[0mPopen\u001b[0m\u001b[0;34m\u001b[0m\u001b[0;34m\u001b[0m\u001b[0m\n\u001b[0;32m--> 284\u001b[0;31m             \u001b[0;32mreturn\u001b[0m \u001b[0mPopen\u001b[0m\u001b[0;34m(\u001b[0m\u001b[0mprocess_obj\u001b[0m\u001b[0;34m)\u001b[0m\u001b[0;34m\u001b[0m\u001b[0;34m\u001b[0m\u001b[0m\n\u001b[0m\u001b[1;32m    285\u001b[0m \u001b[0;34m\u001b[0m\u001b[0m\n\u001b[1;32m    286\u001b[0m     \u001b[0;32mclass\u001b[0m \u001b[0mForkServerProcess\u001b[0m\u001b[0;34m(\u001b[0m\u001b[0mprocess\u001b[0m\u001b[0;34m.\u001b[0m\u001b[0mBaseProcess\u001b[0m\u001b[0;34m)\u001b[0m\u001b[0;34m:\u001b[0m\u001b[0;34m\u001b[0m\u001b[0;34m\u001b[0m\u001b[0m\n",
      "\u001b[0;32m~/.conda/envs/ColorVid/lib/python3.6/multiprocessing/popen_spawn_posix.py\u001b[0m in \u001b[0;36m__init__\u001b[0;34m(self, process_obj)\u001b[0m\n\u001b[1;32m     30\u001b[0m     \u001b[0;32mdef\u001b[0m \u001b[0m__init__\u001b[0m\u001b[0;34m(\u001b[0m\u001b[0mself\u001b[0m\u001b[0;34m,\u001b[0m \u001b[0mprocess_obj\u001b[0m\u001b[0;34m)\u001b[0m\u001b[0;34m:\u001b[0m\u001b[0;34m\u001b[0m\u001b[0;34m\u001b[0m\u001b[0m\n\u001b[1;32m     31\u001b[0m         \u001b[0mself\u001b[0m\u001b[0;34m.\u001b[0m\u001b[0m_fds\u001b[0m \u001b[0;34m=\u001b[0m \u001b[0;34m[\u001b[0m\u001b[0;34m]\u001b[0m\u001b[0;34m\u001b[0m\u001b[0;34m\u001b[0m\u001b[0m\n\u001b[0;32m---> 32\u001b[0;31m         \u001b[0msuper\u001b[0m\u001b[0;34m(\u001b[0m\u001b[0;34m)\u001b[0m\u001b[0;34m.\u001b[0m\u001b[0m__init__\u001b[0m\u001b[0;34m(\u001b[0m\u001b[0mprocess_obj\u001b[0m\u001b[0;34m)\u001b[0m\u001b[0;34m\u001b[0m\u001b[0;34m\u001b[0m\u001b[0m\n\u001b[0m\u001b[1;32m     33\u001b[0m \u001b[0;34m\u001b[0m\u001b[0m\n\u001b[1;32m     34\u001b[0m     \u001b[0;32mdef\u001b[0m \u001b[0mduplicate_for_child\u001b[0m\u001b[0;34m(\u001b[0m\u001b[0mself\u001b[0m\u001b[0;34m,\u001b[0m \u001b[0mfd\u001b[0m\u001b[0;34m)\u001b[0m\u001b[0;34m:\u001b[0m\u001b[0;34m\u001b[0m\u001b[0;34m\u001b[0m\u001b[0m\n",
      "\u001b[0;32m~/.conda/envs/ColorVid/lib/python3.6/multiprocessing/popen_fork.py\u001b[0m in \u001b[0;36m__init__\u001b[0;34m(self, process_obj)\u001b[0m\n\u001b[1;32m     17\u001b[0m         \u001b[0mutil\u001b[0m\u001b[0;34m.\u001b[0m\u001b[0m_flush_std_streams\u001b[0m\u001b[0;34m(\u001b[0m\u001b[0;34m)\u001b[0m\u001b[0;34m\u001b[0m\u001b[0;34m\u001b[0m\u001b[0m\n\u001b[1;32m     18\u001b[0m         \u001b[0mself\u001b[0m\u001b[0;34m.\u001b[0m\u001b[0mreturncode\u001b[0m \u001b[0;34m=\u001b[0m \u001b[0;32mNone\u001b[0m\u001b[0;34m\u001b[0m\u001b[0;34m\u001b[0m\u001b[0m\n\u001b[0;32m---> 19\u001b[0;31m         \u001b[0mself\u001b[0m\u001b[0;34m.\u001b[0m\u001b[0m_launch\u001b[0m\u001b[0;34m(\u001b[0m\u001b[0mprocess_obj\u001b[0m\u001b[0;34m)\u001b[0m\u001b[0;34m\u001b[0m\u001b[0;34m\u001b[0m\u001b[0m\n\u001b[0m\u001b[1;32m     20\u001b[0m \u001b[0;34m\u001b[0m\u001b[0m\n\u001b[1;32m     21\u001b[0m     \u001b[0;32mdef\u001b[0m \u001b[0mduplicate_for_child\u001b[0m\u001b[0;34m(\u001b[0m\u001b[0mself\u001b[0m\u001b[0;34m,\u001b[0m \u001b[0mfd\u001b[0m\u001b[0;34m)\u001b[0m\u001b[0;34m:\u001b[0m\u001b[0;34m\u001b[0m\u001b[0;34m\u001b[0m\u001b[0m\n",
      "\u001b[0;32m~/.conda/envs/ColorVid/lib/python3.6/multiprocessing/popen_spawn_posix.py\u001b[0m in \u001b[0;36m_launch\u001b[0;34m(self, process_obj)\u001b[0m\n\u001b[1;32m     40\u001b[0m         \u001b[0mtracker_fd\u001b[0m \u001b[0;34m=\u001b[0m \u001b[0msemaphore_tracker\u001b[0m\u001b[0;34m.\u001b[0m\u001b[0mgetfd\u001b[0m\u001b[0;34m(\u001b[0m\u001b[0;34m)\u001b[0m\u001b[0;34m\u001b[0m\u001b[0;34m\u001b[0m\u001b[0m\n\u001b[1;32m     41\u001b[0m         \u001b[0mself\u001b[0m\u001b[0;34m.\u001b[0m\u001b[0m_fds\u001b[0m\u001b[0;34m.\u001b[0m\u001b[0mappend\u001b[0m\u001b[0;34m(\u001b[0m\u001b[0mtracker_fd\u001b[0m\u001b[0;34m)\u001b[0m\u001b[0;34m\u001b[0m\u001b[0;34m\u001b[0m\u001b[0m\n\u001b[0;32m---> 42\u001b[0;31m         \u001b[0mprep_data\u001b[0m \u001b[0;34m=\u001b[0m \u001b[0mspawn\u001b[0m\u001b[0;34m.\u001b[0m\u001b[0mget_preparation_data\u001b[0m\u001b[0;34m(\u001b[0m\u001b[0mprocess_obj\u001b[0m\u001b[0;34m.\u001b[0m\u001b[0m_name\u001b[0m\u001b[0;34m)\u001b[0m\u001b[0;34m\u001b[0m\u001b[0;34m\u001b[0m\u001b[0m\n\u001b[0m\u001b[1;32m     43\u001b[0m         \u001b[0mfp\u001b[0m \u001b[0;34m=\u001b[0m \u001b[0mio\u001b[0m\u001b[0;34m.\u001b[0m\u001b[0mBytesIO\u001b[0m\u001b[0;34m(\u001b[0m\u001b[0;34m)\u001b[0m\u001b[0;34m\u001b[0m\u001b[0;34m\u001b[0m\u001b[0m\n\u001b[1;32m     44\u001b[0m         \u001b[0mset_spawning_popen\u001b[0m\u001b[0;34m(\u001b[0m\u001b[0mself\u001b[0m\u001b[0;34m)\u001b[0m\u001b[0;34m\u001b[0m\u001b[0;34m\u001b[0m\u001b[0m\n",
      "\u001b[0;32m~/.conda/envs/ColorVid/lib/python3.6/multiprocessing/spawn.py\u001b[0m in \u001b[0;36mget_preparation_data\u001b[0;34m(name)\u001b[0m\n\u001b[1;32m    170\u001b[0m     \u001b[0;31m# or through direct execution (or to leave it alone entirely)\u001b[0m\u001b[0;34m\u001b[0m\u001b[0;34m\u001b[0m\u001b[0;34m\u001b[0m\u001b[0m\n\u001b[1;32m    171\u001b[0m     \u001b[0mmain_module\u001b[0m \u001b[0;34m=\u001b[0m \u001b[0msys\u001b[0m\u001b[0;34m.\u001b[0m\u001b[0mmodules\u001b[0m\u001b[0;34m[\u001b[0m\u001b[0;34m'__main__'\u001b[0m\u001b[0;34m]\u001b[0m\u001b[0;34m\u001b[0m\u001b[0;34m\u001b[0m\u001b[0m\n\u001b[0;32m--> 172\u001b[0;31m     \u001b[0mmain_mod_name\u001b[0m \u001b[0;34m=\u001b[0m \u001b[0mgetattr\u001b[0m\u001b[0;34m(\u001b[0m\u001b[0mmain_module\u001b[0m\u001b[0;34m.\u001b[0m\u001b[0m__spec__\u001b[0m\u001b[0;34m,\u001b[0m \u001b[0;34m\"name\"\u001b[0m\u001b[0;34m,\u001b[0m \u001b[0;32mNone\u001b[0m\u001b[0;34m)\u001b[0m\u001b[0;34m\u001b[0m\u001b[0;34m\u001b[0m\u001b[0m\n\u001b[0m\u001b[1;32m    173\u001b[0m     \u001b[0;32mif\u001b[0m \u001b[0mmain_mod_name\u001b[0m \u001b[0;32mis\u001b[0m \u001b[0;32mnot\u001b[0m \u001b[0;32mNone\u001b[0m\u001b[0;34m:\u001b[0m\u001b[0;34m\u001b[0m\u001b[0;34m\u001b[0m\u001b[0m\n\u001b[1;32m    174\u001b[0m         \u001b[0md\u001b[0m\u001b[0;34m[\u001b[0m\u001b[0;34m'init_main_from_name'\u001b[0m\u001b[0;34m]\u001b[0m \u001b[0;34m=\u001b[0m \u001b[0mmain_mod_name\u001b[0m\u001b[0;34m\u001b[0m\u001b[0;34m\u001b[0m\u001b[0m\n",
      "\u001b[0;31mAttributeError\u001b[0m: module '__main__' has no attribute '__spec__'"
     ]
    }
   ],
   "source": [
    "import os\n",
    "# os.environ[\"CUDA_VISIBLE_DEVICES\"] = \"0\"\n",
    "\n",
    "%run train.py --data_root='../train_data/data_root' --epoch=1 --gpu_ids=\"0\""
   ]
  },
  {
   "cell_type": "code",
   "execution_count": 6,
   "id": "78659d78",
   "metadata": {},
   "outputs": [
    {
     "name": "stdout",
     "output_type": "stream",
     "text": [
      "\u001b[0m\u001b[01;34massets\u001b[0m/       \u001b[01;32mLICENSE\u001b[0m*    \u001b[01;32mrequirements.txt\u001b[0m*  \u001b[01;32mtest.py\u001b[0m*\r\n",
      "\u001b[01;34mcheckpoints\u001b[0m/  \u001b[01;34mmodels\u001b[0m/     \u001b[01;34mruns\u001b[0m/              \u001b[01;32mtrain.py\u001b[0m*\r\n",
      "\u001b[01;34mdata\u001b[0m/         \u001b[01;32mopt.txt\u001b[0m*    \u001b[01;34msample_videos\u001b[0m/     \u001b[01;32mtry_run_train.ipynb\u001b[0m*\r\n",
      "\u001b[01;34mlib\u001b[0m/          \u001b[01;32mREADME.md\u001b[0m*  \u001b[01;34mtensorboardX\u001b[0m/      \u001b[01;34mutils\u001b[0m/\r\n"
     ]
    }
   ],
   "source": [
    "ls"
   ]
  },
  {
   "cell_type": "code",
   "execution_count": 67,
   "id": "e683cbd6",
   "metadata": {},
   "outputs": [],
   "source": [
    "\"\"\" get a path to MASK directory and extract only the relevant masks & rename them \"\"\"\n",
    "\n",
    "import os\n",
    "import shutil\n",
    "\n",
    "\n",
    "def get_relevant_frames(path, sframe=0, eframe=25, output_path = \"./output\"):\n",
    "    relevant_flow = []\n",
    "\n",
    "    # forward\n",
    "    for i in range(sframe, eframe):\n",
    "        relevant_flow.append((i, i+1))\n",
    "\n",
    "    # backward\n",
    "#     for i in range(eframe, sframe, -1):\n",
    "#         relevant_flow.append((i, i-1))\n",
    "\n",
    "    # assume the images' names are of the format: 'mask_000010_000012.png'\n",
    "    images = [( f, (int(f[5:11]), int(f[12:18])) ) for f in os.listdir(path)]  # [('mask_000031_000033.png', (31, 33)), ...]\n",
    "\n",
    "    if not os.path.isdir(output_path):\n",
    "        os.mkdir(output_path)\n",
    "\n",
    "    for im in images:\n",
    "        if im[1] in relevant_flow:\n",
    "            # move this file to another directory\n",
    "            shutil.copyfile(os.path.join(path, im[0]), os.path.join(output_path, f'{im[0][5:11]}_mask.pgm'))\n",
    "\n",
    "get_relevant_frames('../flow_mask', 0, 25, output_path='../train_data/data_root/lioness/mask')\n",
    "\n"
   ]
  },
  {
   "cell_type": "code",
   "execution_count": 58,
   "id": "e209fcf3",
   "metadata": {},
   "outputs": [],
   "source": [
    "\"\"\" create FLOW directory: extract only the relevant flows & rename them \"\"\"\n",
    "\n",
    "import os\n",
    "import shutil\n",
    "\n",
    "\n",
    "def get_relevant_frames_flow(path, sframe=0, eframe=25, output_path = \"./output\"):\n",
    "    relevant_flow = []\n",
    "\n",
    "    # forward\n",
    "    for i in range(sframe, eframe):\n",
    "        relevant_flow.append((i, i+1))\n",
    "\n",
    "    # backward\n",
    "    for i in range(eframe, sframe, -1):\n",
    "        relevant_flow.append((i, i-1))\n",
    "\n",
    "    # assume the images' names are of the format: 'mask_000010_000012.png'\n",
    "    images = [( f, (int(f[5:11]), int(f[12:18])) ) for f in os.listdir(path)]  # [('mask_000031_000033.png', (31, 33)), ...]\n",
    "\n",
    "    if not os.path.isdir(output_path):\n",
    "        os.mkdir(output_path)\n",
    "\n",
    "    for im in images:\n",
    "        if im[1] in relevant_flow:\n",
    "            # move this file to another directory & change name\n",
    "            file = im[0]\n",
    "            \n",
    "            _, im1, im2 = file.split(\".\")[0].split('_')\n",
    "            if int(im1) < int(im2):\n",
    "                name = f\"{im1}_forward.raw\"\n",
    "            else:\n",
    "                name = f\"{im1}_backward.raw\"\n",
    "            shutil.copyfile(os.path.join(path, file), os.path.join(output_path, name))\n",
    "\n",
    "\n",
    "get_relevant_frames_flow('../flow', 0, 25, output_path='../train_data/data_root/flow')\n"
   ]
  },
  {
   "cell_type": "code",
   "execution_count": 61,
   "id": "7a539c68",
   "metadata": {},
   "outputs": [],
   "source": [
    "\"\"\" rename color frame names and move to another dir \"\"\"\n",
    "\n",
    "import os\n",
    "import shutil\n",
    "\n",
    "\n",
    "def move_rename_color_frames(path, sframe=0, eframe=25, output_path = \"./output\"):\n",
    "    if not os.path.isdir(output_path):\n",
    "        os.mkdir(output_path)\n",
    "        \n",
    "    for f in os.listdir(path):\n",
    "        name = f.split('_')[1]\n",
    "        num = int(name.split('.')[0])\n",
    "        if num >= sframe and num <= eframe:\n",
    "            shutil.copyfile(os.path.join(path, f), os.path.join(output_path, name))\n",
    "        \n",
    "move_rename_color_frames('../color_down_png', 0, 25, output_path='../train_data/data_root/input_pad')\n"
   ]
  },
  {
   "cell_type": "code",
   "execution_count": 4,
   "id": "dcad93c4",
   "metadata": {},
   "outputs": [],
   "source": [
    "# Shira's Code - generates 'pairs_output_new.txt'\n",
    "import os\n",
    "\n",
    "\n",
    "def gen_pairs_output_new(basedir='data_root'):\n",
    "    for fn in os.listdir(basedir):\n",
    "        if not os.path.isdir(os.path.join(basedir, fn)):\n",
    "            continue  # Not a directory\n",
    "        frames_dir = os.path.join(basedir, fn, 'input_pad')\n",
    "        frames = [f for f in os.listdir(frames_dir) if os.path.isfile(os.path.join(frames_dir, f))]\n",
    "        file = os.path.join(basedir, fn, 'pairs_output_new.txt')\n",
    "        frames.sort()\n",
    "        with open(file, 'w') as f:\n",
    "            for i in range(len(frames)-1):\n",
    "                f.write(frames[i] + \" \")\n",
    "                f.write(frames[i+1] + \" \")\n",
    "                f.write(\"reference_video_name \")\n",
    "                f.write(\"reference_video_name \")\n",
    "                f.write(frames[0] + ' ')\n",
    "                f.write(frames[0] + ' ')\n",
    "                f.write(frames[0] + ' ')\n",
    "                f.write(frames[0] + ' ')\n",
    "                f.write(frames[0] + ' ')\n",
    "                f.write(frames[0] + ' ')\n",
    "                f.write(frames[0] + ' ')\n",
    "                f.write(frames[0])\n",
    "\n",
    "                f.write(\"\\n\")\n",
    "\n",
    "gen_pairs_output_new(basedir='../train_data/data_root')"
   ]
  },
  {
   "cell_type": "code",
   "execution_count": 2,
   "id": "ed56796f",
   "metadata": {},
   "outputs": [],
   "source": [
    "\"\"\" create flow directory fron FlowNet2 outputs \"\"\"\n",
    "\n",
    "\n",
    "import os\n",
    "from os.path import join\n",
    "import shutil\n",
    "\n",
    "\n",
    "def func(source_path, sframe=0, eframe=25, output_path = \"./output\"):\n",
    "    \n",
    "    if not os.path.isdir(output_path):\n",
    "        os.mkdir(output_path)\n",
    "    \n",
    "    forward_path = join(source_path, 'lioness_flow_forward')\n",
    "    backward_path = join(source_path, 'lioness_flow_back')\n",
    "    \n",
    "    # forward\n",
    "    for f in os.listdir(forward_path):\n",
    "        num = f.split('.')[0]\n",
    "        if int(num) >= sframe and int(num) <= eframe:\n",
    "            shutil.copyfile(join(forward_path, f), join(output_path, f'{num}_forward.flo'))\n",
    "    \n",
    "    # backward\n",
    "    for f in os.listdir(backward_path):\n",
    "        num = f.split('.')[0]\n",
    "        if int(num) >= sframe and int(num) <= eframe:\n",
    "            shutil.copyfile(join(forward_path, f), join(output_path, f'{num}_backward.flo'))\n",
    "        \n",
    "\n",
    "func(\"../FLowNet2_output\", 0, 25, output_path='../train_data/data_root/lioness/flow')\n",
    "\n",
    "# /home/labs/waic/shirawe/colorization/exemplar/FLowNet2_output/\n",
    "# lioness_flow_forward\n",
    "# lioness_flow_back\n"
   ]
  },
  {
   "cell_type": "code",
   "execution_count": null,
   "id": "8c325f58",
   "metadata": {},
   "outputs": [],
   "source": []
  }
 ],
 "metadata": {
  "kernelspec": {
   "display_name": "Python 3",
   "language": "python",
   "name": "python3"
  },
  "language_info": {
   "codemirror_mode": {
    "name": "ipython",
    "version": 3
   },
   "file_extension": ".py",
   "mimetype": "text/x-python",
   "name": "python",
   "nbconvert_exporter": "python",
   "pygments_lexer": "ipython3",
   "version": "3.6.13"
  }
 },
 "nbformat": 4,
 "nbformat_minor": 5
}
